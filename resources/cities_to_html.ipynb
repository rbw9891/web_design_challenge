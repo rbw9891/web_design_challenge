{
 "cells": [
  {
   "cell_type": "code",
   "execution_count": 1,
   "id": "89b8bf38",
   "metadata": {},
   "outputs": [],
   "source": [
    "import pandas as pd"
   ]
  },
  {
   "cell_type": "code",
   "execution_count": 2,
   "id": "1167b162",
   "metadata": {},
   "outputs": [],
   "source": [
    "file = \"../assets/cities.csv\""
   ]
  },
  {
   "cell_type": "code",
   "execution_count": 4,
   "id": "f8c2d57b",
   "metadata": {},
   "outputs": [
    {
     "data": {
      "text/html": [
       "<div>\n",
       "<style scoped>\n",
       "    .dataframe tbody tr th:only-of-type {\n",
       "        vertical-align: middle;\n",
       "    }\n",
       "\n",
       "    .dataframe tbody tr th {\n",
       "        vertical-align: top;\n",
       "    }\n",
       "\n",
       "    .dataframe thead th {\n",
       "        text-align: right;\n",
       "    }\n",
       "</style>\n",
       "<table border=\"1\" class=\"dataframe\">\n",
       "  <thead>\n",
       "    <tr style=\"text-align: right;\">\n",
       "      <th></th>\n",
       "      <th>City_ID</th>\n",
       "      <th>City</th>\n",
       "      <th>Lat</th>\n",
       "      <th>Lng</th>\n",
       "      <th>Max Temp</th>\n",
       "      <th>Humidity</th>\n",
       "      <th>Cloudiness</th>\n",
       "      <th>Wind Speed</th>\n",
       "      <th>Country</th>\n",
       "      <th>Date</th>\n",
       "    </tr>\n",
       "  </thead>\n",
       "  <tbody>\n",
       "    <tr>\n",
       "      <th>0</th>\n",
       "      <td>0</td>\n",
       "      <td>vaini</td>\n",
       "      <td>-21.2000</td>\n",
       "      <td>-175.2000</td>\n",
       "      <td>28.09</td>\n",
       "      <td>78</td>\n",
       "      <td>20</td>\n",
       "      <td>3.60</td>\n",
       "      <td>TO</td>\n",
       "      <td>1674678276</td>\n",
       "    </tr>\n",
       "    <tr>\n",
       "      <th>1</th>\n",
       "      <td>1</td>\n",
       "      <td>gold coast</td>\n",
       "      <td>-28.0000</td>\n",
       "      <td>153.4333</td>\n",
       "      <td>23.47</td>\n",
       "      <td>97</td>\n",
       "      <td>53</td>\n",
       "      <td>1.54</td>\n",
       "      <td>AU</td>\n",
       "      <td>1674678044</td>\n",
       "    </tr>\n",
       "    <tr>\n",
       "      <th>2</th>\n",
       "      <td>2</td>\n",
       "      <td>eyl</td>\n",
       "      <td>7.9803</td>\n",
       "      <td>49.8164</td>\n",
       "      <td>23.49</td>\n",
       "      <td>70</td>\n",
       "      <td>8</td>\n",
       "      <td>7.65</td>\n",
       "      <td>SO</td>\n",
       "      <td>1674678277</td>\n",
       "    </tr>\n",
       "    <tr>\n",
       "      <th>3</th>\n",
       "      <td>3</td>\n",
       "      <td>tuktoyaktuk</td>\n",
       "      <td>69.4541</td>\n",
       "      <td>-133.0374</td>\n",
       "      <td>-23.00</td>\n",
       "      <td>84</td>\n",
       "      <td>75</td>\n",
       "      <td>4.63</td>\n",
       "      <td>CA</td>\n",
       "      <td>1674678277</td>\n",
       "    </tr>\n",
       "    <tr>\n",
       "      <th>4</th>\n",
       "      <td>4</td>\n",
       "      <td>morales</td>\n",
       "      <td>2.7570</td>\n",
       "      <td>-76.6172</td>\n",
       "      <td>22.44</td>\n",
       "      <td>66</td>\n",
       "      <td>99</td>\n",
       "      <td>1.99</td>\n",
       "      <td>CO</td>\n",
       "      <td>1674678277</td>\n",
       "    </tr>\n",
       "  </tbody>\n",
       "</table>\n",
       "</div>"
      ],
      "text/plain": [
       "   City_ID         City      Lat       Lng  Max Temp  Humidity  Cloudiness  \\\n",
       "0        0        vaini -21.2000 -175.2000     28.09        78          20   \n",
       "1        1   gold coast -28.0000  153.4333     23.47        97          53   \n",
       "2        2          eyl   7.9803   49.8164     23.49        70           8   \n",
       "3        3  tuktoyaktuk  69.4541 -133.0374    -23.00        84          75   \n",
       "4        4      morales   2.7570  -76.6172     22.44        66          99   \n",
       "\n",
       "   Wind Speed Country        Date  \n",
       "0        3.60      TO  1674678276  \n",
       "1        1.54      AU  1674678044  \n",
       "2        7.65      SO  1674678277  \n",
       "3        4.63      CA  1674678277  \n",
       "4        1.99      CO  1674678277  "
      ]
     },
     "execution_count": 4,
     "metadata": {},
     "output_type": "execute_result"
    }
   ],
   "source": [
    "df = pd.read_csv(file)\n",
    "df.head()"
   ]
  },
  {
   "cell_type": "code",
   "execution_count": 6,
   "id": "1752bb95",
   "metadata": {},
   "outputs": [],
   "source": [
    "df.to_html(\"cities_table.html\", index=False)"
   ]
  },
  {
   "cell_type": "code",
   "execution_count": null,
   "id": "88daef96",
   "metadata": {},
   "outputs": [],
   "source": []
  }
 ],
 "metadata": {
  "kernelspec": {
   "display_name": "PythonData",
   "language": "python",
   "name": "pythondata"
  },
  "language_info": {
   "codemirror_mode": {
    "name": "ipython",
    "version": 3
   },
   "file_extension": ".py",
   "mimetype": "text/x-python",
   "name": "python",
   "nbconvert_exporter": "python",
   "pygments_lexer": "ipython3",
   "version": "3.9.13"
  }
 },
 "nbformat": 4,
 "nbformat_minor": 5
}
